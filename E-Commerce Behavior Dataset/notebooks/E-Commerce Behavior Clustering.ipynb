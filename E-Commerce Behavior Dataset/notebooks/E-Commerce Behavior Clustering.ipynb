{
 "cells": [
  {
   "cell_type": "markdown",
   "metadata": {},
   "source": [
    "# Clustering using CustomKMeans Class"
   ]
  },
  {
   "cell_type": "code",
   "execution_count": 13,
   "metadata": {},
   "outputs": [],
   "source": [
    "%load_ext autoreload\n",
    "%autoreload 2\n",
    "\n",
    "# Imports\n",
    "import pandas as pd\n",
    "import numpy as np\n",
    "import seaborn as sns\n",
    "import matplotlib.pyplot as plt\n",
    "import os\n",
    "from sklearn.cluster import KMeans\n",
    "from my_package.custom_kmeans import CustomKMeans"
   ]
  },
  {
   "cell_type": "code",
   "execution_count": 8,
   "metadata": {},
   "outputs": [],
   "source": [
    "df = pd.read_csv(\"../data/cleaned/cleaned_data.csv\")"
   ]
  },
  {
   "cell_type": "code",
   "execution_count": 9,
   "metadata": {},
   "outputs": [],
   "source": [
    "# 1000 Random Entries from Price and Product_ID\n",
    "sampled_prices = df['price'].sample(n=1000, replace=False).reset_index(drop=True)\n",
    "sampled_product_ids = df['product_id'].sample(n=1000, replace=False).reset_index(drop=True)\n",
    "\n",
    "# Create a a Sampled Dataframe\n",
    "sampled_data = pd.DataFrame({\n",
    "    'price': sampled_prices,\n",
    "    'product_id': sampled_product_ids\n",
    "})"
   ]
  },
  {
   "cell_type": "code",
   "execution_count": null,
   "metadata": {},
   "outputs": [],
   "source": [
    "#### Custom KMeans (c_kmeans) implementation\n",
    "\n",
    "\n",
    "def plot_clusters(sampled_data, kmeans):\n",
    "    plt.figure(figsize=(12, 6))\n",
    "    plt.scatter(sampled_data['price'], sampled_data['product_id'], c=sampled_data['cluster'], cmap='viridis', alpha=0.6)\n",
    "    plt.xlabel('Price')\n",
    "    plt.ylabel('Product ID')\n",
    "    plt.title('K-Means Clustering of Sampled Prices and Product IDs')\n",
    "    plt.colorbar(label='Cluster')\n",
    "    plt.show()\n",
    "\n",
    "\n",
    "\n",
    "for i in range(1,10):\n",
    "    #Use the KMeans on the sampled data frame we just made (x1 = price, x2 = product_id)\n",
    "    kmeans = CustomKMeans(k=i)\n",
    "\n",
    "    #Finds best centroids\n",
    "    kmeans.fit(sampled_data)\n",
    "\n",
    "    #Predict what data is best around said clusters\n",
    "    sampled_data['cluster'] = kmeans.predict(sampled_data)\n",
    "    \n",
    "    plot_clusters(sampled_data, kmeans)"
   ]
  },
  {
   "cell_type": "markdown",
   "metadata": {},
   "source": [
    "# Clustering using SkLearn "
   ]
  },
  {
   "cell_type": "code",
   "execution_count": null,
   "metadata": {},
   "outputs": [],
   "source": [
    "#Compare it to the SkLearn version, lets use k = 5\n",
    "\n",
    "# Run custom k-means over the clusters dataset with 5 clusters\n",
    "#Use the KMeans on the sampled data frame we just made (x1 = price, x2 = product_id)\n",
    "kmeans = CustomKMeans(k=5)\n",
    "\n",
    "#Finds best centroids\n",
    "kmeans.fit(sampled_data)\n",
    "\n",
    "#Predict what data is best around said clusters\n",
    "sampled_data['cluster'] = kmeans.predict(sampled_data)\n",
    "    \n",
    "plot_clusters(sampled_data, kmeans)\n",
    "\n",
    "print(\"Now doing sklearn version\")\n",
    "# Run k-means over the clusters dataset with 5 clusters\n",
    "km = KMeans(n_clusters=5)\n",
    "clusters = km.fit(sampled_data)\n",
    "km.cluster_centers_\n",
    "#labels = (km.labels_) # Array of all labels\n",
    "plot_clusters(sampled_data, km)\n",
    "\n",
    "# Create a line plot showing the inertia (SSE) for each n_clusters value\n",
    "inertia = []\n",
    "\n",
    "\n",
    "for (i) in range(1,15):\n",
    "  km = KMeans(n_clusters=i)\n",
    "  clusters = km.fit(sampled_data)\n",
    "  inertia.append(km.inertia_)\n",
    "\n",
    "plt.plot(inertia)\n",
    "plt.show()\n"
   ]
  }
 ],
 "metadata": {
  "kernelspec": {
   "display_name": "Python 3",
   "language": "python",
   "name": "python3"
  },
  "language_info": {
   "codemirror_mode": {
    "name": "ipython",
    "version": 3
   },
   "file_extension": ".py",
   "mimetype": "text/x-python",
   "name": "python",
   "nbconvert_exporter": "python",
   "pygments_lexer": "ipython3",
   "version": "3.9.13"
  }
 },
 "nbformat": 4,
 "nbformat_minor": 2
}
