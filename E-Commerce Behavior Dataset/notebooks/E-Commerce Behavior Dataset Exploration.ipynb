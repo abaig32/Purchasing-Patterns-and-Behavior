{
 "cells": [
  {
   "cell_type": "markdown",
   "metadata": {},
   "source": [
    "# E-Commerce Behavior Dataset Initial Exploration"
   ]
  },
  {
   "cell_type": "code",
   "execution_count": 3,
   "metadata": {},
   "outputs": [],
   "source": [
    "%load_ext autoreload\n",
    "%autoreload 2\n",
    "\n",
    "#Imports \n",
    "import pandas as pd\n",
    "import numpy as np\n",
    "import seaborn as sns\n",
    "import matplotlib.pyplot as plt\n",
    "import os"
   ]
  },
  {
   "cell_type": "code",
   "execution_count": 4,
   "metadata": {},
   "outputs": [],
   "source": [
    "# Initialization of Dataset\n",
    "\n",
    "df = pd.read_csv(\"../data/cleaned/cleaned_data.csv\", parse_dates=['event_time'])"
   ]
  },
  {
   "cell_type": "markdown",
   "metadata": {},
   "source": [
    "# Data Exploration and Questions "
   ]
  },
  {
   "cell_type": "code",
   "execution_count": null,
   "metadata": {},
   "outputs": [],
   "source": [
    "import matplotlib.pyplot as plt\n",
    "\n",
    "#1 What is the most common event type?\n",
    "\n",
    "event_counts = df['event_type'].value_counts()\n",
    "\n",
    "event_counts.plot(\n",
    "    kind='bar',\n",
    "    title='Most Common Event Type',\n",
    "    xlabel='Event Type',\n",
    "    ylabel='Count'\n",
    ")\n",
    "\n",
    "plt.show()\n"
   ]
  },
  {
   "cell_type": "code",
   "execution_count": null,
   "metadata": {},
   "outputs": [],
   "source": [
    "#2 What is the price variation for each product category and the category with the highest price variation?\n",
    "\n",
    "price_std_per_category = df.groupby('category_code')['price'].std()\n",
    "\n",
    "# Print price variation for each product category\n",
    "print(\"Price Variation per Product Category:\")\n",
    "print(price_std_per_category)\n",
    "\n",
    "# Identify the category with the highest price variation\n",
    "highest_var_category = price_std_per_category.idxmax()\n",
    "highest_price_variation = price_std_per_category.max()\n",
    "\n",
    "print(f\"Category with the highest price variation: {highest_var_category} (Std: ${highest_price_variation:.2f})\")\n"
   ]
  },
  {
   "cell_type": "code",
   "execution_count": null,
   "metadata": {},
   "outputs": [],
   "source": [
    "#3 Which product category is the most popular?\n",
    "\n",
    "category_counts = df['category_code'].value_counts()\n",
    "\n",
    "# Create the bar plot for the top 10 most popular product categories\n",
    "category_counts.head(10).plot(\n",
    "    kind='bar',\n",
    "    title='Top 10 Most Popular Product Categories',\n",
    "    xlabel='Category',\n",
    "    ylabel='Count'\n",
    ")\n",
    "\n",
    "plt.show()\n"
   ]
  },
  {
   "cell_type": "code",
   "execution_count": null,
   "metadata": {},
   "outputs": [],
   "source": [
    "#4 What is the distribution of prices?\n",
    "\n",
    "df['price'].plot(\n",
    "    kind='hist',\n",
    "    bins=30,\n",
    "    title='Price Distribution'\n",
    ")\n",
    "plt.xlabel('Price')\n",
    "plt.show()\n"
   ]
  },
  {
   "cell_type": "code",
   "execution_count": null,
   "metadata": {},
   "outputs": [],
   "source": [
    "#5 Which brand has the highest average price?\n",
    "\n",
    "avg_price_per_brand = df.groupby('brand')['price'].mean().sort_values(ascending=False)\n",
    "\n",
    "# Create the bar plot for the top 10 brands by average price\n",
    "avg_price_per_brand.head(10).plot(\n",
    "    kind='bar',\n",
    "    title='Top 10 Brands by Average Price',\n",
    "    xlabel='Brand',\n",
    "    ylabel='Average Price'\n",
    ")\n",
    "\n",
    "plt.show()"
   ]
  },
  {
   "cell_type": "markdown",
   "metadata": {},
   "source": [
    "This graph provides valuable insight into brands we should be looking into for the future. Is there a reason as to why their average prices are so high? What do these brands represent? What types of products do they have? How does the average price compare of these brands compare to their overall popularity? These deeper insights in combination with later graphs can be vital in understanding if there's a deeper relationship in combination with other columns. "
   ]
  },
  {
   "cell_type": "code",
   "execution_count": null,
   "metadata": {},
   "outputs": [],
   "source": [
    "#6 What is the correlation between Price and Category ID?\n",
    "plt.figure(figsize=(10,6))\n",
    "plt.scatter(df['category_id'], df['price'], alpha=0.5, color='skyblue')\n",
    "plt.title('Price vs. Category ID')\n",
    "plt.xlabel('Category ID')\n",
    "plt.ylabel('Price')\n",
    "plt.grid(True)\n",
    "plt.show()"
   ]
  },
  {
   "cell_type": "code",
   "execution_count": null,
   "metadata": {},
   "outputs": [],
   "source": [
    "#7 What are the price trends of each category?\n",
    "\n",
    "average_price_by_category = df.groupby('category_code')['price'].mean()\n",
    "\n",
    "plt.figure(figsize=(18, 6))\n",
    "average_price_by_category.plot(\n",
    "    kind='line',\n",
    "    marker='o',\n",
    "    color='skyblue'\n",
    ")\n",
    "plt.title('Average Price Trend Across Categories')\n",
    "plt.xlabel('Category Code')\n",
    "plt.ylabel('Average Price')\n",
    "plt.grid(True)\n",
    "plt.show()\n"
   ]
  },
  {
   "cell_type": "code",
   "execution_count": null,
   "metadata": {},
   "outputs": [],
   "source": [
    "#8 What is the price range for the most frequent products in each category?\n",
    "\n",
    "product_stats = df.groupby('product_id').agg({\n",
    "    'price': ['min', 'max'],\n",
    "    'category_code': 'first'\n",
    "}).reset_index()\n",
    "\n",
    "product_stats.columns = ['product_id', 'price_min', 'price_max', 'category_code']\n",
    "top_products = df.groupby('product_id').size().nlargest(10).index\n",
    "top_product_stats = product_stats[product_stats['product_id'].isin(top_products)]\n",
    "\n",
    "plt.figure(figsize=(12, 6))\n",
    "sns.barplot(\n",
    "    data=top_product_stats,\n",
    "    x='product_id',\n",
    "    y='price_max',\n",
    "    hue='category_code',\n",
    "    palette='viridis',\n",
    "    ci=None\n",
    ")\n",
    "plt.title('Price Range for Top 10 Most Frequent Products')\n",
    "plt.xlabel('Product ID')\n",
    "plt.ylabel('Max Price')\n",
    "plt.xticks(rotation=45)\n",
    "plt.legend(title='Category Code')\n",
    "plt.grid(True)\n",
    "plt.show()\n"
   ]
  },
  {
   "cell_type": "code",
   "execution_count": null,
   "metadata": {},
   "outputs": [],
   "source": [
    "#9 Which ProductID is the most popular?\n",
    "\n",
    "product_id_counts = df['product_id'].value_counts()\n",
    "top_products = product_id_counts.head(10)\n",
    "\n",
    "plt.figure(figsize=(12, 6))\n",
    "sns.barplot(\n",
    "    x=top_products.index,\n",
    "    y=top_products.values,\n",
    "    palette='viridis'\n",
    ")\n",
    "plt.title('Top 10 Most Popular Product IDs')\n",
    "plt.xlabel('Product ID')\n",
    "plt.ylabel('Number of Purchases')\n",
    "plt.xticks(rotation=45)\n",
    "plt.grid(True)\n",
    "plt.show()\n",
    "\n",
    "#10 What are the top 10 brands?\n",
    "\n",
    "count_of_brands = df['brand'].value_counts()\n",
    "top_n = 10\n",
    "top_brands = count_of_brands.head(top_n)\n",
    "\n",
    "plt.figure(figsize=(12, 8))\n",
    "sns.barplot(x=top_brands.index, y=top_brands.values, palette='viridis')\n",
    "plt.title('Top 10 Most Popular Brands')\n",
    "plt.xlabel('Brands')\n",
    "plt.ylabel('Number of Occurrences')\n",
    "plt.xticks(rotation=45)\n",
    "plt.grid(True)\n",
    "plt.show()\n"
   ]
  },
  {
   "cell_type": "markdown",
   "metadata": {},
   "source": [
    "Looking at the most popular brands can give several insights. Mainly, that most of the top brands are all technology based companies. This can create deeper questions for analysis such as what products do these brands offer?, are their prices comparable or competitive?, does a specific brand offer a feature that another doesn't? This also can tell us which companies hold the biggest brand dominance and that welcomes further analysis as to why these brands are as dominant as they are. Looking at brands and productID can be used in conjunction to find a specific product that is the most popular. We can then ask the same questions about that specific product and see why it is so popular. "
   ]
  },
  {
   "cell_type": "code",
   "execution_count": null,
   "metadata": {},
   "outputs": [],
   "source": [
    "#11 How does the price distribution vary across different brands?\n",
    "\n",
    "top_brands = df['brand'].value_counts().nlargest(10).index\n",
    "filtered_df = df[df['brand'].isin(top_brands)]\n",
    "\n",
    "plt.figure(figsize=(14, 8))\n",
    "sns.boxplot(data=filtered_df, x='brand', y='price', palette='viridis')\n",
    "plt.title('Price Distribution Across Top 10 Brands')\n",
    "plt.xlabel('Brand')\n",
    "plt.ylabel('Price')\n",
    "plt.xticks(rotation=45)\n",
    "plt.grid(True)\n",
    "plt.show()\n"
   ]
  },
  {
   "cell_type": "markdown",
   "metadata": {},
   "source": [
    "Knowing the price distribution across the top 10 brands can be very important in trying to understand deeper relationships across the most popular brands. It gives us an insight into the positioning of the brands as premium brands may have a higher price distribution while budget brands might have lower prices. This also tells us the competitive landscape between these brands. Looking at the distributions of the brands can show they compare with each other within the same category. It can also tell us about the product quality as higher prices may be associated with a perceived higher quality while lower prices may not. It can help gain a deeper understanding into what brand may offer what type of product based on quality. "
   ]
  },
  {
   "cell_type": "code",
   "execution_count": null,
   "metadata": {},
   "outputs": [],
   "source": [
    "#12 What is the average price for each category code and how does it compare to the overall average?\n",
    "\n",
    "overall_avg_price = df['price'].mean()\n",
    "avg_price_by_category = df.groupby('category_code')['price'].mean()\n",
    "\n",
    "print(f'Overall Average Price: {overall_avg_price:.2f}')\n",
    "print('\\nAverage Price by Category Code:')\n",
    "print(avg_price_by_category)\n"
   ]
  },
  {
   "cell_type": "code",
   "execution_count": null,
   "metadata": {},
   "outputs": [],
   "source": [
    "#14 How does Price Distribution differ between purchased and non-purchased products?\n",
    "\n",
    "df['purchased'] = df['price'] > 0\n",
    "price_stats = df.groupby('purchased')['price'].describe()\n",
    "\n",
    "print('Price Distribution Statistics by Purchase Status:')\n",
    "print(price_stats)\n"
   ]
  },
  {
   "cell_type": "code",
   "execution_count": null,
   "metadata": {},
   "outputs": [],
   "source": [
    "#15 What proportion of total spend is accounted for by each event type?\n",
    "\n",
    "total_spend_by_event = df.groupby('event_type')['price'].sum()\n",
    "total_spend = total_spend_by_event.sum()\n",
    "proportion_by_event = total_spend_by_event / total_spend\n",
    "\n",
    "print('Proportion of Total Spend by Event Type:')\n",
    "print(proportion_by_event)\n"
   ]
  },
  {
   "cell_type": "code",
   "execution_count": null,
   "metadata": {},
   "outputs": [],
   "source": [
    "#16 What are the mean, median, and mode of the price column?\n",
    "\n",
    "mean_price = df['price'].mean()\n",
    "median_price = df['price'].median()\n",
    "mode_price = df['price'].mode()\n",
    "\n",
    "print(f'Mean Price: {mean_price:.2f}')\n",
    "print(f'Median Price: {median_price:.2f}')\n",
    "print(f'Mode Price(s): {mode_price.tolist()}')\n"
   ]
  },
  {
   "cell_type": "code",
   "execution_count": null,
   "metadata": {},
   "outputs": [],
   "source": [
    "#17 What is the total revenue by product category\n",
    "\n",
    "# Split the category_code into main category and subcategory\n",
    "df['main_category'] = df['category_code'].apply(lambda x: x.split('.')[0] if pd.notnull(x) else x)\n",
    "\n",
    "# Group the data by main category and then by subcategory for total revenue\n",
    "total_revenue_per_subcategory = df.groupby(['main_category', 'category_code'])['price'].sum()\n",
    "\n",
    "# Get the unique main categories\n",
    "main_categories = df['main_category'].unique()\n",
    "fig, axes = plt.subplots(len(main_categories), 1, figsize=(16, 6 * len(main_categories)))\n",
    "\n",
    "# Loop through each main category and create a separate bar plot\n",
    "for i, category in enumerate(main_categories):\n",
    "    subcategory_revenue = total_revenue_per_subcategory.loc[category].sort_values(ascending=False)\n",
    "    axes[i].bar(subcategory_revenue.index, subcategory_revenue.values, color='skyblue')\n",
    "    axes[i].set_title(f'Total Revenue for {category}')\n",
    "    axes[i].set_xlabel('Subcategory')\n",
    "    axes[i].set_ylabel('Total Revenue')\n",
    "    axes[i].tick_params(axis='x', rotation=45)\n",
    "    axes[i].grid(True)\n",
    "plt.tight_layout()\n",
    "plt.show()"
   ]
  },
  {
   "cell_type": "markdown",
   "metadata": {},
   "source": [
    "There are several graphs here that show which item in each category generates the most revenue. These graphs can also help us to compare the revenue for each category. Looking at each product within each category can help prioritize inventory management, marketing efforts, and resource allocation for that specific product. That can also be replicated for each category. This can make it a lot easier for stores and companies to prepare the correct amount of products and marketing the most popular products to the consumer. "
   ]
  },
  {
   "cell_type": "code",
   "execution_count": null,
   "metadata": {},
   "outputs": [],
   "source": [
    "#18 How many unique products are there per category?\n",
    "\n",
    "unique_products_per_category = df.groupby('category_code')['product_id'].nunique()\n",
    "\n",
    "# Print the unique products per category\n",
    "print(\"Unique Products per Product Category:\")\n",
    "print(unique_products_per_category)"
   ]
  },
  {
   "cell_type": "code",
   "execution_count": null,
   "metadata": {},
   "outputs": [],
   "source": [
    "#19 How do event types differ across the day?\n",
    "\n",
    "df['hour'] = pd.to_datetime(df['event_time']).dt.hour\n",
    "events_by_hour = df.groupby(['event_type', 'hour']).size().unstack(fill_value=0)\n",
    "\n",
    "plt.figure(figsize=(12, 6))\n",
    "events_by_hour.T.plot(kind='line')\n",
    "plt.title('Event Type Distribution Across Different Times of the Day')\n",
    "plt.xlabel('Hour of Day')\n",
    "plt.ylabel('Number of Events')\n",
    "plt.grid(True)\n",
    "plt.show()\n"
   ]
  },
  {
   "cell_type": "code",
   "execution_count": null,
   "metadata": {},
   "outputs": [],
   "source": [
    "#20 What category has the highest conversion rate from cart to purchase?\n",
    "\n",
    "cart_events = df[df['event_type'] == 'cart']\n",
    "purchase_events = df[df['event_type'] == 'purchase']\n",
    "conversion_rate = purchase_events.groupby('category_code').size() / cart_events.groupby('category_code').size()\n",
    "conversion_rate = conversion_rate.sort_values(ascending=False)\n",
    "\n",
    "print(\"Conversion Rate from Cart to Purchase per Category:\")\n",
    "print(conversion_rate)\n",
    "\n",
    "plt.figure(figsize=(12, 6))\n",
    "conversion_rate.plot(kind='bar', color='darkgreen')\n",
    "plt.title('Conversion Rate from Cart to Purchase by Category')\n",
    "plt.xlabel('Category Code')\n",
    "plt.ylabel('Conversion Rate')\n",
    "plt.xticks(rotation=45)\n",
    "plt.grid(True)\n",
    "plt.show()\n"
   ]
  },
  {
   "cell_type": "code",
   "execution_count": null,
   "metadata": {},
   "outputs": [],
   "source": [
    "#21 What are the 5 priciest products?\n",
    "\n",
    "top_5_products = df.groupby('product_id')['price'].max().nlargest(5)\n",
    "\n",
    "product_info = df[df['product_id'].isin(top_5_products.index)][['product_id', 'price', 'category_code']].drop_duplicates()\n",
    "print(\"Most Expensive Products:\")\n",
    "print(product_info)\n",
    "\n",
    "#21 What is the purchase frequency of these top 5 most expensive products?\n",
    "\n",
    "top_5_pf = df[df['product_id'].isin(top_5_products.index)].groupby('product_id').size()\n",
    "print(\"Purchase frequency of the top 5 most expensive products:\")\n",
    "print(top_5_pf)\n",
    "\n",
    "\n",
    "plt.figure(figsize=(12, 8))\n",
    "top_5_pf.plot(kind='bar', color='orange')\n",
    "plt.title('Purchase Frequency of the Top 5 Most Expensive Products')\n",
    "plt.xlabel('Product ID')\n",
    "plt.ylabel('Number of Purchases')\n",
    "plt.xticks(rotation=45)\n",
    "plt.grid(True)\n",
    "plt.show()"
   ]
  },
  {
   "cell_type": "code",
   "execution_count": null,
   "metadata": {},
   "outputs": [],
   "source": [
    "#22 How do prices and popularity affect each other?\n",
    "\n",
    "product_popularity = df.groupby('product_id').size()\n",
    "product_avg_price = df.groupby('product_id')['price'].mean()\n",
    "\n",
    "plt.figure(figsize=(12, 8))\n",
    "plt.scatter(product_popularity, product_avg_price, alpha=0.5, color='purple')\n",
    "plt.title('Relationship Between Product Popularity and Price')\n",
    "plt.xlabel('Product Popularity (Number of Occurrences)')\n",
    "plt.ylabel('Average Price')\n",
    "plt.grid(True)\n",
    "plt.show()\n"
   ]
  },
  {
   "cell_type": "code",
   "execution_count": null,
   "metadata": {},
   "outputs": [],
   "source": [
    "#23 Frequency of add to cart vs. remove from cart events by category\n",
    "\n",
    "# Filter cart events\n",
    "cart_events = df[df['event_type'].isin(['cart', 'remove_from_cart'])]\n",
    "cart_action_frequency = cart_events.groupby(['category_code', 'event_type']).size().unstack(fill_value=0)\n",
    "\n",
    "plt.figure(figsize=(12, 6))\n",
    "cart_action_frequency.plot(kind='bar', stacked=True, color=['blue', 'red'])\n",
    "plt.title('Cart vs. Remove from Cart Events by Category')\n",
    "plt.xlabel('Category Code')\n",
    "plt.ylabel('Number of Events')\n",
    "plt.xticks(rotation=45)\n",
    "plt.grid(True)\n",
    "plt.show()\n"
   ]
  },
  {
   "cell_type": "code",
   "execution_count": null,
   "metadata": {},
   "outputs": [],
   "source": [
    "#24 What are the top 5 users in terms of spending?\n",
    "user_spending = df.groupby('user_id')['price'].sum().nlargest(5)\n",
    "print(\"Top 5 Users by Total Spending:\")\n",
    "print(user_spending)\n",
    "\n",
    "#25 What categories are the top 5 users spending the most in?\n",
    "top_users = user_spending.index\n",
    "user_category_preference = df[df['user_id'].isin(top_users)].groupby(['user_id', 'category_code']).size()\n",
    "print(\"\\nTop Users' Preferred Categories:\")\n",
    "print(user_category_preference)"
   ]
  },
  {
   "cell_type": "code",
   "execution_count": null,
   "metadata": {},
   "outputs": [],
   "source": [
    "#26 How often are products from each brand being added to a cart vs. being purchased?\n",
    "\n",
    "cart_purchase_events = df[df['event_type'].isin(['cart', 'purchase'])]\n",
    "brand_cart_vs_purchase = cart_purchase_events.groupby(['brand', 'event_type']).size().unstack(fill_value=0)\n",
    "\n",
    "plt.figure(figsize=(12, 6))\n",
    "brand_cart_vs_purchase.plot(kind='bar', stacked=True, color=['blue', 'green'])\n",
    "plt.title('Cart vs. Purchase Events by Brand')\n",
    "plt.xlabel('Brand')\n",
    "plt.ylabel('Number of Events')\n",
    "plt.xticks(rotation=45)\n",
    "plt.grid(True)\n",
    "plt.show()\n"
   ]
  },
  {
   "cell_type": "code",
   "execution_count": null,
   "metadata": {},
   "outputs": [],
   "source": [
    "#27 Does a product price being higher mean more likely to be removed from cart?\n",
    "\n",
    "cart_vs_remove = df[df['event_type'].isin(['cart', 'remove_from_cart'])].groupby(['price', 'event_type']).size().unstack(fill_value=0)\n",
    "\n",
    "plt.figure(figsize=(10, 6))\n",
    "cart_vs_remove.plot(kind='line', marker='o', color=['blue', 'red'])\n",
    "plt.title('Cart vs. Remove from Cart Frequency by Price')\n",
    "plt.xlabel('Price')\n",
    "plt.ylabel('Number of Events')\n",
    "plt.grid(True)\n",
    "plt.show()\n"
   ]
  },
  {
   "cell_type": "code",
   "execution_count": null,
   "metadata": {},
   "outputs": [],
   "source": [
    "#28 Total number of purchases?\n",
    "\n",
    "total_purchases = df[df['event_type'] == 'purchase'].shape[0]\n",
    "print(f\"\\nTotal number of purchases: {total_purchases}\")\n",
    "\n",
    "# Find the most expensive product\n",
    "most_expensive_product = df.loc[df['price'].idxmax()]\n",
    "\n",
    "#29 Most expensive product?\n",
    "most_expensive_product = df.loc[df['price'].idxmax()]\n",
    "print(f\"\\nMost expensive product details:\\n{most_expensive_product}\")\n",
    "\n",
    "#30 Total number of unique brands?\n",
    "unique_brands = df['brand'].nunique()\n",
    "print(f\"\\nNumber of unique brands: {unique_brands}\")"
   ]
  },
  {
   "cell_type": "code",
   "execution_count": null,
   "metadata": {},
   "outputs": [],
   "source": [
    "#31 What is the overall distribution of events over time? \n",
    "\n",
    "df.set_index('event_time', inplace=True)\n",
    "\n",
    "df.resample('D').size().plot(figsize=(12,6), title='Daily Event Distribution')\n",
    "plt.xlabel('Date')\n",
    "plt.ylabel('Number of Events')\n",
    "plt.grid(True)\n",
    "plt.show()\n",
    "\n",
    "#32 What is the weekly trend of events? \n",
    "\n",
    "df.resample('W').size().plot(figsize=(12, 6), title='Weekly Event Distribution')\n",
    "plt.xlabel('Weekly')\n",
    "plt.ylabel('Number of Events')\n",
    "plt.grid(True)\n",
    "plt.show()"
   ]
  },
  {
   "cell_type": "markdown",
   "metadata": {},
   "source": [
    "This graph gives an insight into the distribution of events throughout the month. Meaning that items are being 'viewed','add_to_cart', 'remove_from_cart', or 'purchase'. This gives us information that the middle of the month has the highest rate of events. This shows the peak activity times for customer. This activity gives insight into when stores or companies should increase inventory and be prepared for a higher level of interaction with their products. "
   ]
  },
  {
   "cell_type": "code",
   "execution_count": null,
   "metadata": {},
   "outputs": [],
   "source": [
    "#33 Are events likelier to happen on weekends than on weekdays? \n",
    "\n",
    "weekdays = df[df.index.dayofweek < 5].shape[0]\n",
    "weekends = df[df.index.dayofweek >= 5].shape[0]\n",
    "labels = ['Weekdays', 'Weekends']\n",
    "sizes = [weekdays, weekends]\n",
    "plt.figure(figsize=(8, 6))\n",
    "plt.pie(sizes, labels=labels, autopct='%1.1f%%', startangle=90)\n",
    "plt.title('Percentage of Events on Weekdays vs Weekends')\n",
    "plt.axis('equal')\n",
    "plt.show()"
   ]
  },
  {
   "cell_type": "code",
   "execution_count": null,
   "metadata": {},
   "outputs": [],
   "source": [
    "#34 What is the total revenue generated over a month? \n",
    "\n",
    "df.resample('D').agg({'price':'sum'}).plot(figsize=(12,6), title='Total Revenue Generated One Month', color='orange')\n",
    "plt.xlabel('Date')\n",
    "plt.ylabel('Total Revnenue')\n",
    "plt.grid(True)\n",
    "plt.show()\n",
    "\n",
    "#35 How much total revenue was generated each week? \n",
    "\n",
    "total_weekly_revenue = df.resample('W')['price'].sum()\n",
    "plt.figure(figsize=(12,6))\n",
    "total_weekly_revenue.plot(kind='bar', color='blue')\n",
    "plt.title('Total Revenue Generated Each Week')\n",
    "plt.xlabel('Week')\n",
    "plt.ylabel('Total Revenue')\n",
    "plt.xticks(rotation=45)\n",
    "plt.grid(True)\n",
    "plt.show()\n",
    "\n",
    "#36 What is the weekly revenue of electronics? \n",
    "\n",
    "category_weekly_revenue = df[df['category_code'].str.contains('electronics')].resample('W')['price'].sum()\n",
    "\n",
    "plt.figure(figsize=(12,6))\n",
    "category_weekly_revenue.plot(kind='bar', color='teal')\n",
    "plt.title(f'Total Revenue from Electronics Each Week')\n",
    "plt.xlabel('Week')\n",
    "plt.ylabel('Total Revenue')\n",
    "plt.xticks(rotation=45)\n",
    "plt.grid(True)\n",
    "plt.show()"
   ]
  },
  {
   "cell_type": "code",
   "execution_count": null,
   "metadata": {},
   "outputs": [],
   "source": [
    "#37 How many unique products are interacted with each week? \n",
    "\n",
    "unique_products = df.resample('W')['product_id'].nunique()\n",
    "unique_products.plot(figsize=(12,6), title = 'Unique Products Interacted with Each Week', color='orange')\n",
    "plt.xlabel('Week')\n",
    "plt.ylabel('Number of Unique Products')\n",
    "plt.grid(True)\n",
    "plt.show()\n",
    "\n",
    "#38 How many unique products are sold each week? \n",
    "\n",
    "unique_weekly_products = df.resample('W')['product_id'].nunique()\n",
    "plt.figure(figsize=(12,6))\n",
    "unique_weekly_products.plot(kind='bar', color='purple')\n",
    "plt.title('Number of Unique Products Sold Each Week')\n",
    "plt.xlabel('Week')\n",
    "plt.ylabel('Unique Products Sold')\n",
    "plt.xticks(rotation=45)\n",
    "plt.grid(True)\n",
    "plt.show()"
   ]
  },
  {
   "cell_type": "code",
   "execution_count": null,
   "metadata": {},
   "outputs": [],
   "source": [
    "#39 What is the distribution of events based on the day of the week? \n",
    "\n",
    "daily_events = df.resample('D').size()\n",
    "daily_events_weekday = daily_events.groupby(daily_events.index.day_name()).sum()\n",
    "plt.figure(figsize=(12,6))\n",
    "daily_events_weekday.plot(kind='bar', color='green')\n",
    "plt.title('Total Events by Day of the Week')\n",
    "plt.xlabel('Day of the Week')\n",
    "plt.ylabel('Number of Events')\n",
    "plt.xticks(rotation=0)\n",
    "plt.grid(True)\n",
    "plt.show()"
   ]
  },
  {
   "cell_type": "code",
   "execution_count": null,
   "metadata": {},
   "outputs": [],
   "source": [
    "#40 How do user sessions vary by week? \n",
    "\n",
    "weekly_user_sessions = df.resample('W')['user_session'].nunique()\n",
    "plt.figure(figsize=(12,6))\n",
    "weekly_user_sessions.plot(kind='area', color='orange')\n",
    "plt.title('Number of Unique Sessions Each Week')\n",
    "plt.xlabel('Week')\n",
    "plt.ylabel('Unique User Sessions')\n",
    "plt.xticks(rotation=45)\n",
    "plt.grid(True)\n",
    "plt.show()"
   ]
  }
 ],
 "metadata": {
  "kernelspec": {
   "display_name": "Python 3",
   "language": "python",
   "name": "python3"
  },
  "language_info": {
   "codemirror_mode": {
    "name": "ipython",
    "version": 3
   },
   "file_extension": ".py",
   "mimetype": "text/x-python",
   "name": "python",
   "nbconvert_exporter": "python",
   "pygments_lexer": "ipython3",
   "version": "3.9.13"
  }
 },
 "nbformat": 4,
 "nbformat_minor": 2
}
