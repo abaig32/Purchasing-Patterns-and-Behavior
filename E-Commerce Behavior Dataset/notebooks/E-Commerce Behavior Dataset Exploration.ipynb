{
 "cells": [
  {
   "cell_type": "markdown",
   "metadata": {},
   "source": [
    "# E-Commerce Behavior Dataset Initial Exploration"
   ]
  },
  {
   "cell_type": "code",
   "execution_count": 25,
   "metadata": {},
   "outputs": [],
   "source": [
    "#Imports \n",
    "import pandas as pd\n",
    "import numpy as np\n",
    "import seaborn as sns\n",
    "import matplotlib.pyplot as plt\n",
    "import os"
   ]
  },
  {
   "cell_type": "code",
   "execution_count": 26,
   "metadata": {},
   "outputs": [],
   "source": [
    "# Initial Overview of Dataset\n",
    "\n",
    "df = pd.read_csv(\"../data/cleaned/cleaned_data.csv\")"
   ]
  },
  {
   "cell_type": "markdown",
   "metadata": {},
   "source": [
    "# Data Exploration and Questions "
   ]
  },
  {
   "cell_type": "code",
   "execution_count": null,
   "metadata": {},
   "outputs": [],
   "source": [
    "#1 What is the most common event type?\n",
    " \n",
    "event_counts = df['event_type'].value_counts()\n",
    "event_counts.plot(kind='bar', title='Most Common Event Type', xlabel='Event Type', ylabel='Count')\n",
    "plt.show()"
   ]
  },
  {
   "cell_type": "code",
   "execution_count": null,
   "metadata": {},
   "outputs": [],
   "source": [
    "#2 What is the price variation for each product category and the category with the highest price variation?\n",
    " \n",
    "priceStdPerCategory = df.groupby('category_code')['price'].std()\n",
    "print(\"Price Variation per Product Category: \")\n",
    "print(priceStdPerCategory)\n",
    " \n",
    "highestVarCategory = priceStdPerCategory.idxmax()\n",
    "highestPriceVariation = priceStdPerCategory.max()\n",
    "print(f\"Category with the highest price variation: {highestVarCategory} (Std: ${highestPriceVariation:.2f})\")"
   ]
  },
  {
   "cell_type": "code",
   "execution_count": null,
   "metadata": {},
   "outputs": [],
   "source": [
    "#3 Which product category is the most popular?\n",
    " \n",
    "categoryCounts = df['category_code'].value_counts()\n",
    "categoryCounts.head(10).plot(kind='bar', title='Top 10 Most Popular Product Categories', xlabel='Category', ylabel='Count')\n",
    "plt.show()"
   ]
  },
  {
   "cell_type": "code",
   "execution_count": null,
   "metadata": {},
   "outputs": [],
   "source": [
    "#4 What are the distribution of prices?\n",
    " \n",
    "df['price'].plot(kind='hist', bins=30, title='Price Distribution')\n",
    "plt.xlabel('Price')\n",
    "plt.show()"
   ]
  },
  {
   "cell_type": "code",
   "execution_count": null,
   "metadata": {},
   "outputs": [],
   "source": [
    "#5 Which Brand has the highest Average Price?\n",
    " \n",
    "avgPricePerBrand = df.groupby('brand')['price'].mean().sort_values(ascending=False)\n",
    "avgPricePerBrand.head(10).plot(kind='bar', title='Top 10 Brands by Average Price', xlabel='Brand', ylabel='Average Price')\n",
    "plt.show()"
   ]
  },
  {
   "cell_type": "code",
   "execution_count": null,
   "metadata": {},
   "outputs": [],
   "source": [
    "#6 What is the correlation between Price and Category ID?\n",
    " \n",
    "plt.figure(figsize=(10,6))\n",
    "plt.scatter(df['category_id'], df['price'], alpha=0.5, color='skyblue')\n",
    "plt.title('Price vs. Category ID')\n",
    "plt.xlabel('Category ID')\n",
    "plt.ylabel('Price')\n",
    "plt.grid(True)\n",
    "plt.show()"
   ]
  },
  {
   "cell_type": "code",
   "execution_count": null,
   "metadata": {},
   "outputs": [],
   "source": [
    "#7 What are the price trends of each category?\n",
    " \n",
    "averagePriceByCategory = df.groupby('category_code')['price'].mean()\n",
    "plt.figure(figsize=(12,6))\n",
    "averagePriceByCategory.plot(kind='line', marker='o', color='skyblue')\n",
    "plt.title('Average Price Trend Across Categories (Subset)')\n",
    "plt.xlabel('Category Code')\n",
    "plt.ylabel('Average Price')\n",
    "plt.grid(True)\n",
    "plt.show()"
   ]
  },
  {
   "cell_type": "code",
   "execution_count": null,
   "metadata": {},
   "outputs": [],
   "source": [
    "#8 What is the price range for the most frequent products in each category?\n",
    " \n",
    "productStats = df.groupby('product_id').agg({'price': ['min', 'max'], 'category_code': 'first'}).reset_index()\n",
    "productStats.columns = ['product_id', 'price_min', 'price_max', 'category_code']\n",
    "topProducts = df.groupby('product_id').size().nlargest(10).index\n",
    "topProductStats = productStats[productStats['product_id'].isin(topProducts)]\n",
    "plt.figure(figsize=(12,6))\n",
    "sns.barplot(data=topProductStats, x='product_id', y='price_max', hue='category_code', palette='viridis', ci=None)\n",
    "plt.title('Price Range for Top 10 Most Frequent Products')\n",
    "plt.xlabel('Product ID')\n",
    "plt.ylabel('Max Price')\n",
    "plt.xticks(rotation=45)\n",
    "plt.legend(title='Category Code')\n",
    "plt.grid(True)\n",
    "plt.show()"
   ]
  },
  {
   "cell_type": "code",
   "execution_count": null,
   "metadata": {},
   "outputs": [],
   "source": [
    "#9 Which ProductID is the most popular?\n",
    " \n",
    "productIDCounts = df['product_id'].value_counts()\n",
    "topProducts = productIDCounts.head(10)\n",
    "plt.figure(figsize=(12,6))\n",
    "sns.barplot(x=topProducts.index, y=topProducts.values, palette='viridis')\n",
    "plt.title('Top 10 Most Popular Product IDs')\n",
    "plt.xlabel('Product ID')\n",
    "plt.ylabel('Number of Purchases')\n",
    "plt.xticks(rotation=45)\n",
    "plt.grid(True)\n",
    "plt.show()"
   ]
  },
  {
   "cell_type": "code",
   "execution_count": null,
   "metadata": {},
   "outputs": [],
   "source": [
    "#10 How does the price distribution vary across different brands?\n",
    " \n",
    "plt.figure(figsize=(14,8))\n",
    "sns.boxplot(data=df, x='brand', y='price', palette='viridis')\n",
    "plt.title('Price Distribution Across Different Brands')\n",
    "plt.xlabel('Brand')\n",
    "plt.ylabel('Price')\n",
    "plt.xticks(rotation=45)\n",
    "plt.grid(True)\n",
    "plt.show()"
   ]
  },
  {
   "cell_type": "code",
   "execution_count": null,
   "metadata": {},
   "outputs": [],
   "source": [
    "#11 What is the average price for each category code and how does it compare to the overall average?\n",
    " \n",
    "overall_avg_price = df['price'].mean()\n",
    "avg_price_by_category = df.groupby('category_code')['price'].mean()\n",
    "print(f'Overall Average Price: {overall_avg_price:.2f}')\n",
    "print('\\nAverage Price by Category Code:')\n",
    "print(avg_price_by_category)"
   ]
  },
  {
   "cell_type": "code",
   "execution_count": null,
   "metadata": {},
   "outputs": [],
   "source": [
    "#12 How does Price Distribution differ between purchased and non-purchased products?\n",
    " \n",
    "df['purchased'] = df['price'] > 0\n",
    "priceStats = df.groupby('purchased')['price'].describe()\n",
    "print('Price Distribution Statistics by Purchase Status: ')\n",
    "print(priceStats)"
   ]
  },
  {
   "cell_type": "code",
   "execution_count": null,
   "metadata": {},
   "outputs": [],
   "source": [
    "#13 What proportion of total spend is accounted for by each event type?\n",
    " \n",
    "total_spend_by_event = df.groupby('event_type')['price'].sum()\n",
    "total_spend = total_spend_by_event.sum()\n",
    "proportion_by_event = total_spend_by_event / total_spend\n",
    "print('Proportion of Total Spend by Event Type:')\n",
    "print(proportion_by_event)"
   ]
  },
  {
   "cell_type": "code",
   "execution_count": null,
   "metadata": {},
   "outputs": [],
   "source": [
    "#14 What are the mean, median, and mode of the price column?\n",
    "mean_price = df['price'].mean()\n",
    "median_price = df['price'].median()\n",
    "mode_price = df['price'].mode()\n",
    "print(f'Mean Price: {mean_price:.2f}')\n",
    "print(f'Median Price: {median_price:.2f}')\n",
    "print(f'Mode Price(s): {mode_price.tolist()}')"
   ]
  },
  {
   "cell_type": "code",
   "execution_count": null,
   "metadata": {},
   "outputs": [],
   "source": [
    "#15 Which Brand is the most popular?\n",
    "brand_counts = df['brand'].value_counts()\n",
    "plt.figure(figsize=(12,8))\n",
    "sns.barplot(x=brand_counts.index, y=brand_counts.values, palette='viridis')\n",
    "plt.title('Brand Popularity')\n",
    "plt.xlabel('Brand')\n",
    "plt.ylabel('Number of Occurrences')\n",
    "plt.xticks(rotation=45)\n",
    "plt.show()"
   ]
  },
  {
   "cell_type": "code",
   "execution_count": null,
   "metadata": {},
   "outputs": [],
   "source": [
    "#16 - What is the total revenue by product category\n",
    "total_revenue_per_category = df.groupby('category_code')['price'].sum()\n",
    "plt.figure(figsize=(12, 6))\n",
    "total_revenue_per_category.sort_values(ascending=False).plot(kind='bar', color='skyblue')\n",
    "plt.title('Total Revenue Generated by Each Product Category')\n",
    "plt.xlabel('Category Code')\n",
    "plt.ylabel('Total Revenue')\n",
    "plt.xticks(rotation=45)\n",
    "plt.grid(True)\n",
    "plt.show()"
   ]
  },
  {
   "cell_type": "code",
   "execution_count": null,
   "metadata": {},
   "outputs": [],
   "source": [
    "#17 - How many unique products are there per category\n",
    "unique_products_per_category = df.groupby('category_code')['product_id'].nunique()\n",
    "print(\"Unique Products per Product Category:\")\n",
    "print(unique_products_per_category)"
   ]
  },
  {
   "cell_type": "code",
   "execution_count": null,
   "metadata": {},
   "outputs": [],
   "source": [
    "#18 - How do event types differ across the day?\n",
    "df['hour'] = pd.to_datetime(df['event_time']).dt.hour\n",
    "events_by_hour = df.groupby(['event_type', 'hour']).size().unstack(fill_value=0)\n",
    "plt.figure(figsize=(12, 6))\n",
    "events_by_hour.T.plot(kind='line')\n",
    "plt.title('Event Type Distribution Across Different Times of the Day')\n",
    "plt.xlabel('Hour of Day')\n",
    "plt.ylabel('Number of Events')\n",
    "plt.grid(True)\n",
    "plt.show()"
   ]
  },
  {
   "cell_type": "code",
   "execution_count": null,
   "metadata": {},
   "outputs": [],
   "source": [
    "#19 - What category has the highest conversionr ate from cart to purchase?\n",
    "cart_events = df[df['event_type'] == 'cart']\n",
    "purchase_events = df[df['event_type'] == 'purchase']\n",
    "conversion_rate = purchase_events.groupby('category_code').size() / cart_events.groupby('category_code').size()\n",
    "conversion_rate = conversion_rate.sort_values(ascending=False)\n",
    "print(\"Conversion Rate from Cart to Purchase per Category:\")\n",
    "print(conversion_rate)\n",
    "plt.figure(figsize=(12, 6))\n",
    "conversion_rate.plot(kind='bar', color='darkgreen')\n",
    "plt.title('Conversion Rate from Cart to Purchase by Category')\n",
    "plt.xlabel('Category Code')\n",
    "plt.ylabel('Conversion Rate')\n",
    "plt.xticks(rotation=45)\n",
    "plt.grid(True)\n",
    "plt.show()"
   ]
  },
  {
   "cell_type": "code",
   "execution_count": null,
   "metadata": {},
   "outputs": [],
   "source": [
    "#20 - What are the 5 priciest products?\n",
    "top_5_products = df.groupby('product_id')['price'].max().nlargest(5)\n",
    "print(\"Most expensive products:\")\n",
    "print(top_5_products)"
   ]
  },
  {
   "cell_type": "code",
   "execution_count": null,
   "metadata": {},
   "outputs": [],
   "source": [
    "#21 -  What is the purchase frequency of these top 5 most expensive products?\n",
    "top_5_pf = df[df['product_id'].isin(top_5_products.index)].groupby('product_id').size()\n",
    "print(\"Purchase frequency of the top 5 most expensive products:\")\n",
    "print(top_5_pf)\n",
    "plt.figure(figsize=(12, 8))\n",
    "top_5_products.plot(kind='bar', color='orange')\n",
    "plt.title('Top 5 Most Expensive Products and Purchase Frequency')\n",
    "plt.xlabel('Product ID')\n",
    "plt.ylabel('Number of Purchases')\n",
    "plt.grid(True)\n",
    "plt.show()"
   ]
  },
  {
   "cell_type": "code",
   "execution_count": null,
   "metadata": {},
   "outputs": [],
   "source": [
    "#22 - How do prices and popularity affect eachother?\n",
    "product_popularity = df.groupby('product_id').size()\n",
    "product_avg_price = df.groupby('product_id')['price'].mean()\n",
    "plt.figure(figsize=(12, 8))\n",
    "plt.scatter(product_popularity, product_avg_price, alpha=0.5, color='purple')\n",
    "plt.title('Relationship Between Product Popularity and Price')\n",
    "plt.xlabel('Product Popularity (Number of Occurrences)')\n",
    "plt.ylabel('Average Price')\n",
    "plt.grid(True)\n",
    "plt.show()"
   ]
  },
  {
   "cell_type": "code",
   "execution_count": null,
   "metadata": {},
   "outputs": [],
   "source": [
    "#23 - Frequency of add to cart vs. remove from cart events by category?\n",
    "# Filter cart events\n",
    "cart_events = df[df['event_type'].isin(['cart', 'remove_from_cart'])]\n",
    "cart_action_frequency = cart_events.groupby(['category_code', 'event_type']).size().unstack(fill_value=0)\n",
    "plt.figure(figsize=(12, 6))\n",
    "cart_action_frequency.plot(kind='bar', stacked=True, color=['blue', 'red'])\n",
    "plt.title('Cart vs. Remove from Cart Events by Category')\n",
    "plt.xlabel('Category Code')\n",
    "plt.ylabel('Number of Events')\n",
    "plt.xticks(rotation=45)\n",
    "plt.grid(True)\n",
    "plt.show()"
   ]
  },
  {
   "cell_type": "code",
   "execution_count": null,
   "metadata": {},
   "outputs": [],
   "source": [
    "#24 - What are the top 5 users in terms of spending?\n",
    "user_spending = df.groupby('user_id')['price'].sum().nlargest(5)\n",
    "print(\"Top 5 Users by Total Spending:\")\n",
    "print(user_spending)"
   ]
  },
  {
   "cell_type": "code",
   "execution_count": null,
   "metadata": {},
   "outputs": [],
   "source": [
    "#25 - What categories are the top 5 users spending the most in?\n",
    "top_users = user_spending.index\n",
    "user_category_preference = df[df['user_id'].isin(top_users)].groupby(['user_id', 'category_code']).size()\n",
    "print(\"Top Users' Preferred Categories:\")\n",
    "print(user_category_preference)"
   ]
  },
  {
   "cell_type": "code",
   "execution_count": null,
   "metadata": {},
   "outputs": [],
   "source": [
    "#26 - How often are products from each brand being added to a cart vs. being purchased?\n",
    "cart_purchase_events = df[df['event_type'].isin(['cart', 'purchase'])]\n",
    "brand_cart_vs_purchase = cart_purchase_events.groupby(['brand', 'event_type']).size().unstack(fill_value=0)\n",
    "plt.figure(figsize=(12, 6))\n",
    "brand_cart_vs_purchase.plot(kind='bar', stacked=True, color=['blue', 'green'])\n",
    "plt.title('Cart vs. Purchase Events by Brand')\n",
    "plt.xlabel('Brand')\n",
    "plt.ylabel('Number of Events')\n",
    "plt.xticks(rotation=45)\n",
    "plt.grid(True)\n",
    "plt.show()"
   ]
  },
  {
   "cell_type": "code",
   "execution_count": null,
   "metadata": {},
   "outputs": [],
   "source": [
    "#27 - Does a product price being higher mean more likely to be removed from cart?\n",
    "cart_vs_remove = df[df['event_type'].isin(['cart', 'remove_from_cart'])].groupby(['price', 'event_type']).size().unstack(fill_value=0)\n",
    "plt.figure(figsize=(10, 6))\n",
    "cart_vs_remove.plot(kind='line', marker='o', color=['blue', 'red'])\n",
    "plt.title('Cart vs. Remove from Cart Frequency by Price')\n",
    "plt.xlabel('Price')\n",
    "plt.ylabel('Number of Events')\n",
    "plt.grid(True)\n",
    "plt.show()"
   ]
  },
  {
   "cell_type": "code",
   "execution_count": null,
   "metadata": {},
   "outputs": [],
   "source": [
    "#28 - Total number of purchases?\n",
    "total_purchases = df[df['event_type'] == 'purchase'].shape[0]\n",
    "print(f\"Total number of purchases: {total_purchases}\")\n",
    "# Find the most expensive product\n",
    "most_expensive_product = df.loc[df['price'].idxmax()]"
   ]
  },
  {
   "cell_type": "code",
   "execution_count": null,
   "metadata": {},
   "outputs": [],
   "source": [
    "#29 - Most expensive product?\n",
    "most_expensive_product = df.loc[df['price'].idxmax()]\n",
    "print(f\"Most expensive product details:\\n{most_expensive_product}\")"
   ]
  },
  {
   "cell_type": "code",
   "execution_count": null,
   "metadata": {},
   "outputs": [],
   "source": [
    "#30 - Total number of unique brands?\n",
    "unique_brands = df['brand'].nunique()\n",
    "print(f\"Number of unique brands: {unique_brands}\")"
   ]
  }
 ],
 "metadata": {
  "kernelspec": {
   "display_name": "Python 3",
   "language": "python",
   "name": "python3"
  },
  "language_info": {
   "codemirror_mode": {
    "name": "ipython",
    "version": 3
   },
   "file_extension": ".py",
   "mimetype": "text/x-python",
   "name": "python",
   "nbconvert_exporter": "python",
   "pygments_lexer": "ipython3",
   "version": "3.9.13"
  }
 },
 "nbformat": 4,
 "nbformat_minor": 2
}
