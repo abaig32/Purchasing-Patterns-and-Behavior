{
 "cells": [
  {
   "cell_type": "markdown",
   "metadata": {},
   "source": [
    "Local Outlier Factor (LOF) is the algorithm that was implemented on the dataset. Local Outlier Factor has 5 steps that should be focused on. These steps include calculating the distance between points, determining k and k-nearest neighbors, computing reachability distances, calculating the Local Reachability Density for each point, computing the LOF score for each point, and identifying outliers based on the score. \n",
    "\n",
    "\t1.Calculate Distances\n",
    "\t    a. Measure the distance between each pair of points in the dataset\n",
    "\t    b. If you have an n-dimensional dataset, calculate the Euclidean distance between every pair of points \n",
    "\t\n",
    "    2.Determine k\n",
    "\t    a. Decide on a number k that will indicate the number of neighbors to consider for each point. \n",
    "\t    b. Larger k-values work better with larger datasets and vise versa. \n",
    "\t\n",
    "    3.Find k-distance for each point\n",
    "\t    a. Sort the distances to all other points\n",
    "\t    b. Identify the distance to the k-th nearest neighbor\n",
    "\t    c. The points within that distance are k-nearest neighbors \n",
    "\t\n",
    "    4.Computing Reachability Distance\n",
    "\t    a. Use this formula to compute the reachability distance \n",
    "\t        i. P = point, N = k-nearest neighbor\n",
    "\t        ii. reachability distance(P,N) = max(k distance(N),distance(P,N))\n",
    "\t\n",
    "    5.Calculate the Local Reachability Density\n",
    "\t    a. Use this formula to compute the Local Reachability Density\n",
    "\t        i. For each point P\n",
    "\t            1. Sum the reachability distances from P to each of its k-nearest neighbors\n",
    "\t            2. Divide k by this sum to get the Local Reachability Density\n",
    "\t            3. LRD(P) = k /∑N in k nearest neighbors of Preachability distance(P,N)k \n",
    "\t\n",
    "    6.Calculate the LOF Score\n",
    "\t    a. Find all the Local Reachability Density’s of all P’s k-nearest neighbors\n",
    "\t    b. Use this formula to calculate the Local Outlier Factor for P \n",
    "\t        i. Average the ratio of the LRDs of P’s neighbors to the Local Reachability Density of P \n",
    "\t        ii. LOF(P) = 1/k N in k nearest neighbors of P∑ LRD(N)/LRD(P) \n",
    "\t\n",
    "    7.Identify Anomalies\n",
    "\t    a. Review the LOF scores\n",
    "\t    b. Set a threshold for outlet detection (for example, points with an LOF score of 1.5-2 or above can be considered outliers) \n",
    "\t    c. Points with LOF scores that are above the set threshold can be outliers. \n"
   ]
  }
 ],
 "metadata": {
  "language_info": {
   "name": "python"
  }
 },
 "nbformat": 4,
 "nbformat_minor": 2
}
